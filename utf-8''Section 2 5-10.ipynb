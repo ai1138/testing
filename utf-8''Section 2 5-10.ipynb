{
 "cells": [
  {
   "cell_type": "code",
   "execution_count": 4,
   "metadata": {},
   "outputs": [
    {
     "ename": "SyntaxError",
     "evalue": "invalid syntax (<ipython-input-4-d14d67c9b95c>, line 2)",
     "output_type": "error",
     "traceback": [
      "\u001b[0;36m  File \u001b[0;32m\"<ipython-input-4-d14d67c9b95c>\"\u001b[0;36m, line \u001b[0;32m2\u001b[0m\n\u001b[0;31m    print('I'd much rather you 'not' worry about the errors.'')\u001b[0m\n\u001b[0m             ^\u001b[0m\n\u001b[0;31mSyntaxError\u001b[0m\u001b[0;31m:\u001b[0m invalid syntax\n"
     ]
    }
   ],
   "source": [
    "print(\"Hello World!\")  \n",
    "print('I'd much rather you 'not' worry about the errors.'')                       \n",
    "print(\"I \"said\" do not worry about errors in Python.\")"
   ]
  },
  {
   "cell_type": "code",
   "execution_count": null,
   "metadata": {},
   "outputs": [],
   "source": []
  },
  {
   "cell_type": "code",
   "execution_count": 3,
   "metadata": {},
   "outputs": [
    {
     "data": {
      "text/plain": [
       "'hello'"
      ]
     },
     "execution_count": 3,
     "metadata": {},
     "output_type": "execute_result"
    }
   ],
   "source": [
    "'hello'"
   ]
  },
  {
   "cell_type": "code",
   "execution_count": 5,
   "metadata": {},
   "outputs": [
    {
     "name": "stdout",
     "output_type": "stream",
     "text": [
      "Hello World!\n",
      "I'd much rather you 'not' worry about the errors.\n",
      "I \"said\" do not worry about errors in Python.\n"
     ]
    }
   ],
   "source": [
    "print(\"Hello World!\")  \n",
    "print(\"I'd much rather you 'not' worry about the errors.\")                       \n",
    "print('I \"said\" do not worry about errors in Python.')"
   ]
  },
  {
   "cell_type": "code",
   "execution_count": 6,
   "metadata": {},
   "outputs": [
    {
     "name": "stdout",
     "output_type": "stream",
     "text": [
      "most of the time comment is after to command to undo/redo something.\n",
      "This will run.\n"
     ]
    }
   ],
   "source": [
    "# A comment is written to write notes about the code.                       \n",
    "# Anything after the # is ignored by python.                       \n",
    "print(\"most of the time comment is after to command to undo/redo something.\")  # and the comment after is ignored                       \n",
    "# Coders often \"disable\" or comment out a piece of code:                       \n",
    "# print (\"This won't run.\")                       \n",
    "print(\"This will run.\")"
   ]
  },
  {
   "cell_type": "code",
   "execution_count": 7,
   "metadata": {},
   "outputs": [
    {
     "ename": "NameError",
     "evalue": "name 'z' is not defined",
     "output_type": "error",
     "traceback": [
      "\u001b[0;31m---------------------------------------------------------------------------\u001b[0m",
      "\u001b[0;31mNameError\u001b[0m                                 Traceback (most recent call last)",
      "\u001b[0;32m<ipython-input-7-92339837a26f>\u001b[0m in \u001b[0;36m<module>\u001b[0;34m()\u001b[0m\n\u001b[1;32m      1\u001b[0m \u001b[0mx\u001b[0m\u001b[0;34m=\u001b[0m\u001b[0;36m1\u001b[0m\u001b[0;34m\u001b[0m\u001b[0m\n\u001b[1;32m      2\u001b[0m \u001b[0my\u001b[0m\u001b[0;34m=\u001b[0m\u001b[0;36m2\u001b[0m\u001b[0;34m\u001b[0m\u001b[0m\n\u001b[0;32m----> 3\u001b[0;31m \u001b[0mprint\u001b[0m\u001b[0;34m(\u001b[0m\u001b[0mx\u001b[0m\u001b[0;34m+\u001b[0m\u001b[0my\u001b[0m\u001b[0;34m+\u001b[0m\u001b[0mz\u001b[0m\u001b[0;34m)\u001b[0m\u001b[0;34m\u001b[0m\u001b[0m\n\u001b[0m",
      "\u001b[0;31mNameError\u001b[0m: name 'z' is not defined"
     ]
    }
   ],
   "source": [
    "x=1\n",
    "y=2\n",
    "print(x+y) # +z) - I was not able to find z, please define it or may be we dont need it?"
   ]
  },
  {
   "cell_type": "code",
   "execution_count": 8,
   "metadata": {},
   "outputs": [
    {
     "name": "stdout",
     "output_type": "stream",
     "text": [
      "\n",
      "x\n",
      " \n",
      "x\n",
      " \n",
      "x\n",
      "\n"
     ]
    }
   ],
   "source": [
    "print(\"\"\"\n",
    "x\n",
    " \n",
    "x\n",
    " \n",
    "x\n",
    "\"\"\")"
   ]
  },
  {
   "cell_type": "code",
   "execution_count": 11,
   "metadata": {},
   "outputs": [
    {
     "name": "stdout",
     "output_type": "stream",
     "text": [
      "xxx\n"
     ]
    }
   ],
   "source": [
    "print(\"xxx\")"
   ]
  },
  {
   "cell_type": "code",
   "execution_count": 10,
   "metadata": {},
   "outputs": [
    {
     "name": "stdout",
     "output_type": "stream",
     "text": [
      "\n",
      "x\n",
      " \n",
      "x\n",
      " \n",
      "x\n",
      "\n"
     ]
    }
   ],
   "source": [
    "print(\"\"\"\n",
    "x\n",
    " \n",
    "x\n",
    " \n",
    "x\n",
    "\"\"\")"
   ]
  },
  {
   "cell_type": "code",
   "execution_count": 12,
   "metadata": {},
   "outputs": [
    {
     "name": "stdout",
     "output_type": "stream",
     "text": [
      "\n",
      "\n",
      "x\n",
      "    \n",
      "x\n",
      "    \n",
      "\n",
      "\n"
     ]
    }
   ],
   "source": [
    "print(\"\"\"\n",
    "\n",
    "x\n",
    "    \n",
    "x\n",
    "    \n",
    "\n",
    "\"\"\")"
   ]
  },
  {
   "cell_type": "code",
   "execution_count": 15,
   "metadata": {},
   "outputs": [
    {
     "name": "stdout",
     "output_type": "stream",
     "text": [
      "5.01\n"
     ]
    },
    {
     "data": {
      "text/plain": [
       "float"
      ]
     },
     "execution_count": 15,
     "metadata": {},
     "output_type": "execute_result"
    }
   ],
   "source": [
    "a = 5.01\n",
    "b=1\n",
    "c=a*b\n",
    "print (c)\n",
    "type(c)"
   ]
  },
  {
   "cell_type": "code",
   "execution_count": 16,
   "metadata": {},
   "outputs": [
    {
     "name": "stdout",
     "output_type": "stream",
     "text": [
      "5\n"
     ]
    },
    {
     "data": {
      "text/plain": [
       "int"
      ]
     },
     "execution_count": 16,
     "metadata": {},
     "output_type": "execute_result"
    }
   ],
   "source": [
    "a = 5\n",
    "b=1\n",
    "c=a*b\n",
    "print(c)\n",
    "type(c)"
   ]
  },
  {
   "cell_type": "code",
   "execution_count": 19,
   "metadata": {},
   "outputs": [
    {
     "name": "stdout",
     "output_type": "stream",
     "text": [
      "Carefully observe the formatting of the output:\n",
      "Balls 30.0\n",
      "Stick 98\n",
      "Oh, did you observe the difference?.\n",
      "Is it true that 3 + 8 < 12 - 7? False\n",
      "Oh, that's why it's False.\n"
     ]
    }
   ],
   "source": [
    "print(\"Carefully observe the formatting of the output:\",)                       \n",
    "print(\"Balls\", 25 + 30 / 6)                       \n",
    "print(\"Stick from the remainder\", 100 - 14 * 3 % 4)\n",
    "print(\"Oh, did you observe the difference?.\")                             \n",
    "print(\"Is it true that 3 + 8 < 12 - 7?\", 3 + 8 < 12 - 7)                       \n",
    "print(\"Oh, that's why it's False.\")   "
   ]
  },
  {
   "cell_type": "code",
   "execution_count": 2,
   "metadata": {},
   "outputs": [
    {
     "name": "stdout",
     "output_type": "stream",
     "text": [
      "There are 100 liens available.\n",
      "There are only 100 pages available.\n",
      "There will be 25.0 lines per word\n",
      "Difference 96.0 lines minus word.\n"
     ]
    }
   ],
   "source": [
    "lines= 100                       \n",
    "word = 4.0     #this becomes a float                  \n",
    "pages=100\n",
    "           \n",
    "lines_pages= lines- pages\n",
    "diff= lines - word # Interaction of a float will convert integer into float\n",
    "division = lines/word\n",
    " \n",
    "print(\"There are\", lines, \"liens available.\")                       \n",
    "print(\"There are only\", pages, \"pages available.\")                       \n",
    "print(\"There will be\", division , \"lines per word\")                       \n",
    "print(\"Difference\", diff, \"lines minus word.\")                       \n",
    "# Observe the interaction between the decimal and the non decimal variables!"
   ]
  },
  {
   "cell_type": "code",
   "execution_count": 23,
   "metadata": {},
   "outputs": [
    {
     "name": "stdout",
     "output_type": "stream",
     "text": [
      "can u give me value of x12\n"
     ]
    }
   ],
   "source": [
    "x= input(\"can u give me value of x\")"
   ]
  },
  {
   "cell_type": "code",
   "execution_count": 24,
   "metadata": {},
   "outputs": [
    {
     "data": {
      "text/plain": [
       "'12'"
      ]
     },
     "execution_count": 24,
     "metadata": {},
     "output_type": "execute_result"
    }
   ],
   "source": [
    "x"
   ]
  },
  {
   "cell_type": "code",
   "execution_count": 25,
   "metadata": {},
   "outputs": [
    {
     "name": "stdout",
     "output_type": "stream",
     "text": [
      "Here's your file /home/nbuser/.local/share/jupyter/runtime/kernel-4ec08fa9-0241-4fa9-9cdb-a3a0c44ed919.json:\n",
      "{\n",
      "  \"shell_port\": 45789,\n",
      "  \"iopub_port\": 36699,\n",
      "  \"stdin_port\": 36913,\n",
      "  \"control_port\": 33585,\n",
      "  \"hb_port\": 41295,\n",
      "  \"ip\": \"127.0.0.1\",\n",
      "  \"key\": \"cdf0239e-2a12557b340bddf0f4d5188b\",\n",
      "  \"transport\": \"tcp\",\n",
      "  \"signature_scheme\": \"hmac-sha256\",\n",
      "  \"kernel_name\": \"\"\n",
      "}\n"
     ]
    }
   ],
   "source": [
    "from sys import argv\n",
    " \n",
    "script,xxx, filename = argv\n",
    " \n",
    "txt = open(filename)\n",
    " \n",
    "print(f\"Here's your file {filename}:\")\n",
    "print(txt.read())\n",
    " \n",
    "#nbuser@nbserver:~$ cat /home/nbuser/.local/share/jupyter/runtime/kernel-4ec08fa9-0241-4fa9-9cdb-a3a0c44ed919.json"
   ]
  },
  {
   "cell_type": "code",
   "execution_count": 26,
   "metadata": {},
   "outputs": [
    {
     "name": "stdout",
     "output_type": "stream",
     "text": [
      "Type the filename again:\n",
      "> data.txt\n",
      "in file\n",
      "this is the data\n"
     ]
    }
   ],
   "source": [
    "\n",
    "print(\"Type the filename again:\")\n",
    "file_again = input(\"> \")\n",
    " \n",
    "txt_again = open(file_again)\n",
    " \n",
    "print(txt_again.read())"
   ]
  },
  {
   "cell_type": "code",
   "execution_count": 37,
   "metadata": {},
   "outputs": [
    {
     "data": {
      "text/plain": [
       "['this']"
      ]
     },
     "execution_count": 37,
     "metadata": {},
     "output_type": "execute_result"
    }
   ],
   "source": [
    "a = 'this is a string'\n",
    "#a[10] = 'f'\n",
    "newlist = a.split()\n",
    "newlist[0].split()"
   ]
  },
  {
   "cell_type": "code",
   "execution_count": null,
   "metadata": {},
   "outputs": [],
   "source": []
  },
  {
   "cell_type": "code",
   "execution_count": 38,
   "metadata": {},
   "outputs": [
    {
     "data": {
      "text/plain": [
       "'this is a longer string'"
      ]
     },
     "execution_count": 38,
     "metadata": {},
     "output_type": "execute_result"
    }
   ],
   "source": [
    "b = a.replace('string', 'longer string')\n",
    "b"
   ]
  },
  {
   "cell_type": "code",
   "execution_count": 39,
   "metadata": {},
   "outputs": [
    {
     "data": {
      "text/plain": [
       "['p', 'y', 't', 'h', 'o', 'n']"
      ]
     },
     "execution_count": 39,
     "metadata": {},
     "output_type": "execute_result"
    }
   ],
   "source": [
    "s = 'python'\n",
    "list(s)"
   ]
  },
  {
   "cell_type": "code",
   "execution_count": 44,
   "metadata": {},
   "outputs": [
    {
     "data": {
      "text/plain": [
       "['t',\n",
       " 'h',\n",
       " 'i',\n",
       " 's',\n",
       " ' ',\n",
       " 'i',\n",
       " 's',\n",
       " ' ',\n",
       " 'a',\n",
       " ' ',\n",
       " 'f',\n",
       " 't',\n",
       " 'r',\n",
       " 'i',\n",
       " 'n',\n",
       " 'g']"
      ]
     },
     "execution_count": 44,
     "metadata": {},
     "output_type": "execute_result"
    }
   ],
   "source": [
    "strlist = list(a)\n",
    "strlist[10]='f'\n",
    "strlist"
   ]
  },
  {
   "cell_type": "code",
   "execution_count": 45,
   "metadata": {},
   "outputs": [
    {
     "name": "stdout",
     "output_type": "stream",
     "text": [
      "What is my name? Joshi.\n",
      "I am about  71 inches tall.\n",
      "I am 175 pounds heavy.\n",
      "Actually I want to be fit and have nice weight to height ratio\n",
      "He's got Black eyes and Black hair.\n",
      "So lets us add everything and see everything 35, 71, and 175 I get 281.\n"
     ]
    }
   ],
   "source": [
    "my_name = 'Joshi'                       \n",
    "my_age = 35  # that is true!                      \n",
    "my_height = 71  # inches                       \n",
    "my_weight = 175  # lbs                       \n",
    "my_eyes = 'Black'                       \n",
    "my_hair = 'Black'                       \n",
    "print(f\"What is my name? {my_name}.\")                       \n",
    "print(f\"I am about  {my_height} inches tall.\")                       \n",
    "print(f\"I am {my_weight} pounds heavy.\")                       \n",
    "print(\"Actually I want to be fit and have nice weight to height ratio\")                       \n",
    "print(f\"He's got {my_eyes} eyes and {my_hair} hair.\")                       \n",
    "total = my_age + my_height + my_weight                       \n",
    "print(f\"So lets us add everything and see everything {my_age}, {my_height}, and {my_weight} I get {total}.\")"
   ]
  },
  {
   "cell_type": "code",
   "execution_count": 51,
   "metadata": {},
   "outputs": [
    {
     "name": "stdout",
     "output_type": "stream",
     "text": [
      "What is my name? Joshi .\n"
     ]
    }
   ],
   "source": [
    "my_name = 'Joshi'                       \n",
    "my_age = 35  # that is true!                      \n",
    "my_height = 71  # inches                       \n",
    "my_weight = 175  # lbs                       \n",
    "my_eyes = 'Black'                       \n",
    "my_hair = 'Black'                       \n",
    "print(\"What is my name?\",my_name , \".\")      "
   ]
  },
  {
   "cell_type": "code",
   "execution_count": 60,
   "metadata": {},
   "outputs": [
    {
     "name": "stdout",
     "output_type": "stream",
     "text": [
      "True False False True\n",
      "{} {} {} {} {} {} {} {} {} {} {} {} xxxx\n"
     ]
    }
   ],
   "source": [
    "thisstring = \"{} {} {} {}\"\n",
    "\n",
    "print(thisstring.format(True, False, False, True))\n",
    "print(thisstring.format(formatter, formatter, formatter, 'xxxx'))"
   ]
  },
  {
   "cell_type": "code",
   "execution_count": 59,
   "metadata": {},
   "outputs": [
    {
     "name": "stdout",
     "output_type": "stream",
     "text": [
      "[1, 1, 2, 3] [1, 1, 2, 3] [1, 1, 2, 3] [1, 1, 2, 3]\n"
     ]
    }
   ],
   "source": [
    "print(thisstring.format([1,1,2,3],[1,1,2,3],[1,1,2,3],[1,1,2,3]))\n"
   ]
  },
  {
   "cell_type": "code",
   "execution_count": 65,
   "metadata": {},
   "outputs": [
    {
     "name": "stdout",
     "output_type": "stream",
     "text": [
      "String plays and joining.\n",
      "What you want to do is join.\n",
      "..........\n",
      "Strig----Concathis\n"
     ]
    }
   ],
   "source": [
    "print(\"String plays and joining.\")                       \n",
    "print(\"What you want to do is {}.\".format('join'))                       \n",
    "print(\".\" * 10)  # what'd that do?  Python trying to do something that others would not do                      \n",
    "end1 = \"S\"                       \n",
    "end2 = \"t\"                       \n",
    "end3 = \"r\"                       \n",
    "end4 = \"i\"                       \n",
    "end5 = \"g\"                       \n",
    "end6 = \"C\"                       \n",
    "end7 = \"o\"                       \n",
    "end8 = \"n\"                       \n",
    "end9 = \"c\"                       \n",
    "end10 = \"a\"                       \n",
    "end11 = \"this\"                       \n",
    "               \n",
    "print(end1 + end2 + end3 + end4 + end5, end='----')                       \n",
    "print(end6 + end7 + end8 + end9 + end10 + end11)"
   ]
  },
  {
   "cell_type": "code",
   "execution_count": 68,
   "metadata": {},
   "outputs": [
    {
     "name": "stdout",
     "output_type": "stream",
     "text": [
      "print pisfun Python makes life easy\n",
      "New lines:  Python\\\n",
      "Makes\n",
      "Life\tEasy\n",
      "                       \n",
      "Triple quotes \n",
      "allow you to \n",
      "move to new lines in the print command.                       \n",
      "\n"
     ]
    }
   ],
   "source": [
    "# Here's some way to come to new line.                       \n",
    "pisfun= \"Python makes life easy\"                       \n",
    "pisfunn= \"Python\\\\\\nMakes\\nLife\\tEasy\"                       \n",
    "print(\"print pisfun\", pisfun)                       \n",
    "print(\"New lines: \", pisfunn)                       \n",
    "print(\"\"\"                       \n",
    "Triple quotes \n",
    "allow you to \n",
    "move to new lines in the print command.                       \n",
    "\"\"\")"
   ]
  },
  {
   "cell_type": "code",
   "execution_count": 1,
   "metadata": {},
   "outputs": [
    {
     "name": "stdout",
     "output_type": "stream",
     "text": [
      "How old are you? 32\n",
      "How tall are you? 180cm\n",
      "How much do you weight? 70kgs\n",
      "So, you're 32 old, 180cm tall and 70kgs heavy.\n"
     ]
    }
   ],
   "source": [
    "print(\"How old are you?\", end=' ')                       \n",
    "age = input()                       \n",
    "print(\"How tall are you?\", end=' ')                       \n",
    "height = input()                       \n",
    "print(\"How much do you weight?\", end=' ')                       \n",
    "weight = input()                       \n",
    "print(f\"So, you're {age} old, {height} tall and {weight} heavy.\")"
   ]
  },
  {
   "cell_type": "code",
   "execution_count": 3,
   "metadata": {},
   "outputs": [
    {
     "name": "stdout",
     "output_type": "stream",
     "text": [
      "How old are you?\n",
      "32\n",
      "How tall are you?\n",
      "32\n",
      "How much do you weight?\n",
      "32\n",
      "So, you're 32 old, 32 tall and 32 heavy.\n"
     ]
    }
   ],
   "source": [
    "print(\"How old are you?\")                       \n",
    "age = input()                       \n",
    "print(\"How tall are you?\")                       \n",
    "height = input()                       \n",
    "print(\"How much do you weight?\")                       \n",
    "weight = input()                       \n",
    "print(f\"So, you're {age} old, {height} tall and {weight} heavy.\")"
   ]
  },
  {
   "cell_type": "code",
   "execution_count": 4,
   "metadata": {},
   "outputs": [
    {
     "name": "stdout",
     "output_type": "stream",
     "text": [
      "How old are you? 32\n",
      "How tall are you? 32\n",
      "How much do you weight? 32\n",
      "So, you're 32 old, 32 tall and 32 heavy.\n"
     ]
    }
   ],
   "source": [
    "age = input(\"How old are you? \")                       \n",
    "height = input(\"How tall are you? \")                       \n",
    "weight = input(\"How much do you weight? \")                       \n",
    "print(f\"So, you're {age} old, {height} tall and {weight} heavy.\")\n"
   ]
  },
  {
   "cell_type": "code",
   "execution_count": 5,
   "metadata": {},
   "outputs": [
    {
     "data": {
      "text/plain": [
       "str"
      ]
     },
     "execution_count": 5,
     "metadata": {},
     "output_type": "execute_result"
    }
   ],
   "source": [
    "type(age)"
   ]
  },
  {
   "cell_type": "code",
   "execution_count": 7,
   "metadata": {},
   "outputs": [],
   "source": [
    "age = int(age) \n"
   ]
  },
  {
   "cell_type": "code",
   "execution_count": 8,
   "metadata": {},
   "outputs": [
    {
     "data": {
      "text/plain": [
       "int"
      ]
     },
     "execution_count": 8,
     "metadata": {},
     "output_type": "execute_result"
    }
   ],
   "source": [
    "type(age)"
   ]
  },
  {
   "cell_type": "code",
   "execution_count": 9,
   "metadata": {},
   "outputs": [
    {
     "data": {
      "text/plain": [
       "32"
      ]
     },
     "execution_count": 9,
     "metadata": {},
     "output_type": "execute_result"
    }
   ],
   "source": [
    "age"
   ]
  },
  {
   "cell_type": "code",
   "execution_count": 12,
   "metadata": {},
   "outputs": [
    {
     "name": "stdout",
     "output_type": "stream",
     "text": [
      "in file\n",
      "this is the data\n"
     ]
    }
   ],
   "source": [
    "xxx = open('data.txt')\n",
    "yyy =xxx.read()\n",
    "print(yyy)"
   ]
  },
  {
   "cell_type": "code",
   "execution_count": 13,
   "metadata": {},
   "outputs": [
    {
     "data": {
      "text/plain": [
       "<_io.TextIOWrapper name='data.txt' mode='r' encoding='UTF-8'>"
      ]
     },
     "execution_count": 13,
     "metadata": {},
     "output_type": "execute_result"
    }
   ],
   "source": [
    "xxx"
   ]
  },
  {
   "cell_type": "code",
   "execution_count": 14,
   "metadata": {},
   "outputs": [
    {
     "name": "stdout",
     "output_type": "stream",
     "text": [
      "First let's print the whole file:\n",
      "\n",
      "{\n",
      "  \"shell_port\": 57775,\n",
      "  \"iopub_port\": 33331,\n",
      "  \"stdin_port\": 52797,\n",
      "  \"control_port\": 55499,\n",
      "  \"hb_port\": 43101,\n",
      "  \"ip\": \"127.0.0.1\",\n",
      "  \"key\": \"274f46d3-a9699d95edbad1f83fe85e96\",\n",
      "  \"transport\": \"tcp\",\n",
      "  \"signature_scheme\": \"hmac-sha256\",\n",
      "  \"kernel_name\": \"\"\n",
      "}\n",
      "Now let's rewind, kind of like a tape.\n",
      "Let's print three lines:\n",
      "1 {\n",
      "\n",
      "2   \"shell_port\": 57775,\n",
      "\n",
      "3   \"iopub_port\": 33331,\n",
      "\n",
      "4   \"stdin_port\": 52797,\n",
      "\n"
     ]
    }
   ],
   "source": [
    "from sys import argv\n",
    " \n",
    "script, xxx, input_file = argv\n",
    " \n",
    " \n",
    "def print_all(f):\n",
    "    print(f.read())\n",
    " \n",
    " \n",
    "def rewind(f):\n",
    "    f.seek(0)\n",
    " \n",
    " \n",
    "def print_a_line(line_count, f):\n",
    "    print(line_count, f.readline())\n",
    " \n",
    " \n",
    "current_file = open(input_file)\n",
    " \n",
    "print(\"First let's print the whole file:\\n\")\n",
    " \n",
    "print_all(current_file)\n",
    " \n",
    "print(\"Now let's rewind, kind of like an old audoio tape.\")\n",
    " \n",
    "rewind(current_file)\n",
    " \n",
    "print(\"Let's print three lines:\")\n",
    " \n",
    "current_line = 1\n",
    "print_a_line(current_line, current_file)\n",
    " \n",
    "current_line = current_line + 1\n",
    "print_a_line(current_line, current_file)\n",
    " \n",
    "current_line = current_line + 1\n",
    "print_a_line(current_line, current_file)\n",
    " \n",
    "current_line = current_line + 1\n",
    "print_a_line(current_line, current_file)"
   ]
  },
  {
   "cell_type": "code",
   "execution_count": 15,
   "metadata": {},
   "outputs": [
    {
     "data": {
      "text/plain": [
       "'/home/nbuser/.local/share/jupyter/runtime/kernel-4207d53f-a43f-4df0-a39e-2385b91699d0.json'"
      ]
     },
     "execution_count": 15,
     "metadata": {},
     "output_type": "execute_result"
    }
   ],
   "source": [
    "input_file"
   ]
  },
  {
   "cell_type": "code",
   "execution_count": 18,
   "metadata": {},
   "outputs": [
    {
     "name": "stdout",
     "output_type": "stream",
     "text": [
      "5   \"ip\": \"127.0.0.1\",\n",
      "\n"
     ]
    }
   ],
   "source": [
    "print_a_line(current_line+1, current_file)"
   ]
  },
  {
   "cell_type": "code",
   "execution_count": 30,
   "metadata": {},
   "outputs": [
    {
     "data": {
      "text/plain": [
       "''"
      ]
     },
     "execution_count": 30,
     "metadata": {},
     "output_type": "execute_result"
    }
   ],
   "source": [
    "current_file.readline()"
   ]
  },
  {
   "cell_type": "code",
   "execution_count": null,
   "metadata": {},
   "outputs": [],
   "source": []
  }
 ],
 "metadata": {
  "kernelspec": {
   "display_name": "Python 3",
   "language": "python",
   "name": "python3"
  },
  "language_info": {
   "codemirror_mode": {
    "name": "ipython",
    "version": 3
   },
   "file_extension": ".py",
   "mimetype": "text/x-python",
   "name": "python",
   "nbconvert_exporter": "python",
   "pygments_lexer": "ipython3",
   "version": "3.7.3"
  }
 },
 "nbformat": 4,
 "nbformat_minor": 2
}
