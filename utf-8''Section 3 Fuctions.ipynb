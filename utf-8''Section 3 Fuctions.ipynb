{
 "cells": [
  {
   "cell_type": "markdown",
   "metadata": {},
   "source": [
    "All parameters (arguments) in the Python language are passed by reference. It means if you change what a parameter refers to within a function, the change also reflects back in the calling function. For example −"
   ]
  },
  {
   "cell_type": "code",
   "execution_count": 3,
   "metadata": {},
   "outputs": [
    {
     "name": "stdout",
     "output_type": "stream",
     "text": [
      "Values inside the function:  [10, 20, 30, [1, 2, 3, 4]]\n",
      "Values outside the function:  [10, 20, 30, [1, 2, 3, 4]]\n"
     ]
    }
   ],
   "source": [
    "\n",
    "# Function definition is here\n",
    "def changeme( mylist ):\n",
    "   \"This changes a passed list into this function\"\n",
    "   mylist.append([1,2,3,4]);\n",
    "   print (\"Values inside the function: \", mylist)\n",
    "   return\n",
    "\n",
    "# Now you can call changeme function\n",
    "mylist = [10,20,30];\n",
    "changeme( mylist );\n",
    "print (\"Values outside the function: \", mylist)"
   ]
  },
  {
   "cell_type": "code",
   "execution_count": 8,
   "metadata": {},
   "outputs": [
    {
     "name": "stdout",
     "output_type": "stream",
     "text": [
      "{'de': 'German', 'en': 'English', 'fr': 'French'}\n"
     ]
    }
   ],
   "source": [
    "#There is also a mechanism for an arbitrary number of keyword parameters. To do this, we use the double asterisk \"**\" notation:\n",
    "\n",
    "def f(**args):\n",
    "     print(args)\n",
    "f(de=\"German\",en=\"English\",fr=\"French\")\n"
   ]
  },
  {
   "cell_type": "code",
   "execution_count": 6,
   "metadata": {},
   "outputs": [],
   "source": [
    "def arithmetic_mean_xxx(x, *l):\n",
    "    \"\"\" The function calculates the arithmetic mean of a non-empty\n",
    "        arbitrary number of numbers \"\"\"\n",
    "    sum = x\n",
    "    for i in l:\n",
    "        sum += i\n",
    "\n",
    "    return sum / (1.0 + len(l))"
   ]
  },
  {
   "cell_type": "code",
   "execution_count": 7,
   "metadata": {},
   "outputs": [
    {
     "data": {
      "text/plain": [
       "6.666666666666667"
      ]
     },
     "execution_count": 7,
     "metadata": {},
     "output_type": "execute_result"
    }
   ],
   "source": [
    "arithmetic_mean_xxx(4,7,9)"
   ]
  },
  {
   "cell_type": "code",
   "execution_count": 14,
   "metadata": {},
   "outputs": [
    {
     "name": "stdout",
     "output_type": "stream",
     "text": [
      "<function parent.<locals>.first_child at 0x7f84a74fcbf8>\n",
      "<function parent.<locals>.second_child at 0x7f84a74fc9d8>\n"
     ]
    },
    {
     "data": {
      "text/plain": [
       "'Call me Liam'"
      ]
     },
     "execution_count": 14,
     "metadata": {},
     "output_type": "execute_result"
    }
   ],
   "source": [
    "def parent(num):\n",
    "    def first_child():\n",
    "        return \"Hi, I am Emma\"\n",
    "\n",
    "    def second_child():\n",
    "        return \"Call me Liam\"\n",
    "\n",
    "    if num == 1:\n",
    "        return first_child\n",
    "    else:\n",
    "        return second_child\n",
    "    \n",
    "first = parent(1)\n",
    "\n",
    "second = parent(2)\n",
    "\n",
    "print(first)\n",
    "print(second)\n",
    "\n",
    "first()\n",
    "\n",
    "\n",
    "second()"
   ]
  },
  {
   "cell_type": "code",
   "execution_count": 13,
   "metadata": {},
   "outputs": [
    {
     "name": "stdout",
     "output_type": "stream",
     "text": [
      "Value of total :  30\n",
      "Value of total :  40\n"
     ]
    }
   ],
   "source": [
    "\n",
    "# Function definition is here\n",
    "sum = lambda arg1, arg2: arg1 + arg2;\n",
    "\n",
    "# Now you can call sum as a function\n",
    "print (\"Value of total : \", sum( 10, 20 ))\n",
    "print (\"Value of total : \", sum( 20, 20 ))"
   ]
  },
  {
   "cell_type": "code",
   "execution_count": 16,
   "metadata": {},
   "outputs": [],
   "source": [
    "\n",
    "\n",
    "def my_decorator(func):\n",
    "    def wrapper():\n",
    "        print(\"Something is happening before the function is called.\")\n",
    "        func()\n",
    "        print(\"Something is happening after the function is called.\")\n",
    "    return wrapper\n",
    "\n",
    "@my_decorator\n",
    "def say_whee():\n",
    "    print(\"Whee!\")\n",
    "    \n",
    "    \n",
    "#So, @my_decorator is just an easier way of saying say_whee = my_decorator(say_whee). It’s how you apply a decorator to a function.\n",
    "say_whee()\n"
   ]
  },
  {
   "cell_type": "code",
   "execution_count": 21,
   "metadata": {},
   "outputs": [
    {
     "name": "stdout",
     "output_type": "stream",
     "text": [
      "Hello World xxx\n"
     ]
    }
   ],
   "source": [
    "def decorator_func(say_hello_func):\n",
    "  def wrapper_func(hello_var, world_var):\n",
    "    hello = \"Hello yyy, \"\n",
    "    world = \"World xxx\"\n",
    "    \n",
    "    if not hello_var:\n",
    "      hello_var = hello\n",
    "    \n",
    "    if not world_var:\n",
    "      world_var = world\n",
    "      \n",
    "    return say_hello_func(hello_var, world_var)\n",
    "  \n",
    "  return wrapper_func\n",
    "\n",
    "@decorator_func\n",
    "def say_hello(hello_var, world_var):\n",
    "  print (hello_var + \" \" + world_var)\n",
    "  \n",
    "say_hello(\"Hello\", \"\")"
   ]
  },
  {
   "cell_type": "code",
   "execution_count": 22,
   "metadata": {},
   "outputs": [
    {
     "name": "stdout",
     "output_type": "stream",
     "text": [
      "Hello yyy,  World xxx\n"
     ]
    }
   ],
   "source": [
    "say_hello(\"\", \"\")"
   ]
  },
  {
   "cell_type": "code",
   "execution_count": 1,
   "metadata": {},
   "outputs": [
    {
     "name": "stdout",
     "output_type": "stream",
     "text": [
      "arg1: S, arg2: J\n",
      "arg1: S!\n",
      "I got nothin' to return.\n"
     ]
    }
   ],
   "source": [
    "def print_two(arg1, arg2):                       \n",
    "    print(f\"arg1: {arg1}, arg2: {arg2}\")                       \n",
    " \n",
    "# this just takes one argument                       \n",
    "def print_one(arg1):                       \n",
    "    print(f\"arg1: {arg1}\")                       \n",
    " \n",
    "# this one takes no arguments                       \n",
    "def print_none():                       \n",
    "    print(\"I got nothin' to return.\")                       \n",
    " \n",
    "                  \n",
    "print_two(\"S\", \"J\")                       \n",
    "print_one(\"S!\")                       \n",
    "print_none()\n"
   ]
  },
  {
   "cell_type": "code",
   "execution_count": 6,
   "metadata": {},
   "outputs": [
    {
     "name": "stdout",
     "output_type": "stream",
     "text": [
      "arg1: S arg2: J\n",
      "arg1: S!\n",
      "I got nothin' to return.\n"
     ]
    }
   ],
   "source": [
    "def print_two(input1, input2):                       \n",
    "    print(\"arg1:\",input1, \"arg2:\", input2)                       \n",
    " \n",
    "# this just takes one argument                       \n",
    "def print_one(par1):                       \n",
    "    print(\"arg1:\", par1)                       \n",
    " \n",
    "# this one takes no arguments                       \n",
    "def print_none():                       \n",
    "    print(\"I got nothin' to return.\")   \n",
    "    \n",
    "def do_none():                       \n",
    "    pass  \n",
    " \n",
    "                  \n",
    "print_two(\"S\", \"J\")                       \n",
    "print_one(\"S!\")                       \n",
    "print_none()\n"
   ]
  },
  {
   "cell_type": "code",
   "execution_count": 8,
   "metadata": {},
   "outputs": [
    {
     "name": "stdout",
     "output_type": "stream",
     "text": [
      "Let's see some functions!\n",
      "30 5\n",
      "78 minus 4\n",
      "multiple 90 2\n",
      "DIVIDING 100 2\n"
     ]
    }
   ],
   "source": [
    "\n",
    "\n",
    "def add(a, b):                       \n",
    "   print(a,b)                       \n",
    "   return a + b                       \n",
    " \n",
    "def subtract(a, b):                       \n",
    "   print(a,\"minus\",b)                       \n",
    "   return a - b                       \n",
    " \n",
    "def multiply(a, b):                       \n",
    "   print(\"multiple\",a,b)                       \n",
    "   return a * b                       \n",
    " \n",
    "def divide(a, b):                       \n",
    "   print(\"DIVIDING\",a,b)                       \n",
    "   return a / b                       \n",
    " \n",
    "print(\"Let's see some functions!\")                       \n",
    "age = add(30, 5)                       \n",
    "height = subtract(78, 4)                       \n",
    "weight = multiply(90, 2)                       \n",
    "iq = divide(100, 2)  "
   ]
  },
  {
   "cell_type": "code",
   "execution_count": 10,
   "metadata": {},
   "outputs": [
    {
     "name": "stdout",
     "output_type": "stream",
     "text": [
      "78 minus 4\n",
      "multiple 90 2\n",
      "74 180\n",
      "DIVIDING 254 2\n"
     ]
    },
    {
     "data": {
      "text/plain": [
       "127.0"
      ]
     },
     "execution_count": 10,
     "metadata": {},
     "output_type": "execute_result"
    }
   ],
   "source": [
    "divide(add(subtract(78, 4)  , multiply(90, 2) ),2)"
   ]
  },
  {
   "cell_type": "code",
   "execution_count": 11,
   "metadata": {},
   "outputs": [
    {
     "ename": "TypeError",
     "evalue": "subtract() takes 2 positional arguments but 3 were given",
     "output_type": "error",
     "traceback": [
      "\u001b[0;31m---------------------------------------------------------------------------\u001b[0m",
      "\u001b[0;31mTypeError\u001b[0m                                 Traceback (most recent call last)",
      "\u001b[0;32m<ipython-input-11-bc7b838ffde2>\u001b[0m in \u001b[0;36m<module>\u001b[0;34m()\u001b[0m\n\u001b[0;32m----> 1\u001b[0;31m \u001b[0msubtract\u001b[0m\u001b[0;34m(\u001b[0m\u001b[0;36m78\u001b[0m\u001b[0;34m,\u001b[0m \u001b[0;36m4\u001b[0m\u001b[0;34m,\u001b[0m\u001b[0;36m2\u001b[0m\u001b[0;34m)\u001b[0m\u001b[0;34m\u001b[0m\u001b[0m\n\u001b[0m",
      "\u001b[0;31mTypeError\u001b[0m: subtract() takes 2 positional arguments but 3 were given"
     ]
    }
   ],
   "source": [
    "subtract(78, 4,2) "
   ]
  },
  {
   "cell_type": "code",
   "execution_count": 12,
   "metadata": {},
   "outputs": [
    {
     "name": "stdout",
     "output_type": "stream",
     "text": [
      "aaa\n",
      "bbb\n",
      "ccc\n",
      "eee\n"
     ]
    }
   ],
   "source": [
    "def xxx(*args):\n",
    "    for xy in args:\n",
    "        print(xy)\n",
    "xxx('aaa','bbb','ccc','eee')"
   ]
  },
  {
   "cell_type": "code",
   "execution_count": 14,
   "metadata": {},
   "outputs": [
    {
     "name": "stdout",
     "output_type": "stream",
     "text": [
      "We'd have 5000000 , 5000.0 , and 50.0 .\n"
     ]
    }
   ],
   "source": [
    "def secret_formula(started):                       \n",
    "    samosa = started * 500                       \n",
    "    dosa = samosa / 1000                       \n",
    "    idli = dosa / 100                       \n",
    "    return samosa, dosa, idli\n",
    " \n",
    "rice = 10000                       \n",
    "s,d,i = secret_formula(rice)                       \n",
    "# remember that this is another way to format string                       \n",
    "print(f\"We'd have {s} , {d} , and {i} .\")  "
   ]
  },
  {
   "cell_type": "code",
   "execution_count": 15,
   "metadata": {},
   "outputs": [
    {
     "name": "stdout",
     "output_type": "stream",
     "text": [
      "We'd have 5000000 beans, 5000 jars, and 50 crabapples.\n"
     ]
    }
   ],
   "source": [
    "start_point = 10000\n",
    "\n",
    "print (\"We'd have %d beans, %d jars, and %d crabapples.\" % secret_formula(start_point))"
   ]
  },
  {
   "cell_type": "code",
   "execution_count": 17,
   "metadata": {},
   "outputs": [
    {
     "name": "stdout",
     "output_type": "stream",
     "text": [
      "We'd have 5000000 , 5000.0 , and 50.0 .\n"
     ]
    }
   ],
   "source": [
    "def my_secret_formula(input1):                       \n",
    "    output1 = input1 * 500                       \n",
    "    output2 = output1 / 1000                       \n",
    "    output3 = output2 / 100                       \n",
    "    return output1, output2, output3\n",
    " \n",
    "rice = 10000                       \n",
    "s,d,i = my_secret_formula(rice)                       \n",
    "# remember that this is another way to format string                       \n",
    "print(f\"We'd have {s} , {d} , and {i} .\")  "
   ]
  },
  {
   "cell_type": "code",
   "execution_count": 19,
   "metadata": {},
   "outputs": [],
   "source": [
    "def secret_formula(started):\n",
    "    jelly_beans = started * 500\n",
    "    jars = jelly_beans / 1000\n",
    "    crates = jars / 100\n",
    "\n"
   ]
  },
  {
   "cell_type": "code",
   "execution_count": 1,
   "metadata": {},
   "outputs": [
    {
     "name": "stdout",
     "output_type": "stream",
     "text": [
      "string  :  ['Pennies']\n",
      "int  :  [1]\n",
      "bol  :  [True, False]\n",
      "none  :  [None, None]\n",
      "other  :  [{1, 2, 3, 4}, (1, 2, 3, 4), 5.0]\n"
     ]
    }
   ],
   "source": [
    "change = [1, 'pennies', 2, 'dimes',False, 3, 'quarters', True, None , (1,2,3,4)]\n",
    "def findtype(change):\n",
    "    string_change =[]\n",
    "    int_change = []\n",
    "    bool_change = []\n",
    "    none_change = []\n",
    "    other_change = []\n",
    "    for eachvalue in change:\n",
    "        if type(eachvalue) == str:\n",
    "            string_change.append(eachvalue)\n",
    "        elif type(eachvalue) == int:\n",
    "            int_change.append(eachvalue)\n",
    "        elif type(eachvalue) == bool:\n",
    "            bool_change.append(eachvalue)\n",
    "        elif eachvalue is None:\n",
    "            none_change.append(eachvalue)\n",
    "        else:\n",
    "            other_change.append(eachvalue)\n",
    "\n",
    "\n",
    "    return {\"string\":string_change, \"int\" :int_change,\"bol\":bool_change,\"none\":none_change,\"other\":other_change}\n",
    "\n",
    "o = findtype([1, True ,None , False, \"Pennies\", {1,2,3,4},(1,2,3,4),None,5.0])\n",
    "\n",
    "for k,v in o.items() :\n",
    "    print (k,\" : \",v )"
   ]
  },
  {
   "cell_type": "code",
   "execution_count": 2,
   "metadata": {},
   "outputs": [
    {
     "name": "stdout",
     "output_type": "stream",
     "text": [
      "Values inside the function:  [10, 20, 30, [1, 2, 3, 4]]\n",
      "Values outside the function:  [10, 20, 30, [1, 2, 3, 4]]\n"
     ]
    }
   ],
   "source": [
    "# Function definition is here\n",
    "def changeme( mylist ):\n",
    "   \"This changes a passed list into this function\"\n",
    "   mylist.append([1,2,3,4]);\n",
    "   print (\"Values inside the function: \", mylist)\n",
    "   return\n",
    " \n",
    "# Now you can call changeme function\n",
    "mylist = [10,20,30];\n",
    "changeme( mylist );\n",
    "print (\"Values outside the function: \", mylist)"
   ]
  },
  {
   "cell_type": "code",
   "execution_count": 3,
   "metadata": {},
   "outputs": [
    {
     "name": "stdout",
     "output_type": "stream",
     "text": [
      "{'de': 'German', 'en': 'English', 'fr': 'French'}\n"
     ]
    }
   ],
   "source": [
    "def f(**args):\n",
    "     print(args)\n",
    "f(de=\"German\",en=\"English\",fr=\"French\")"
   ]
  },
  {
   "cell_type": "code",
   "execution_count": 5,
   "metadata": {},
   "outputs": [
    {
     "name": "stdout",
     "output_type": "stream",
     "text": [
      "de German\n",
      "en English\n",
      "fr French\n"
     ]
    }
   ],
   "source": [
    "def f(**args):\n",
    "     for k,v in args.items():\n",
    "            print(k,v)\n",
    "f(de=\"German\",en=\"English\",fr=\"French\")"
   ]
  },
  {
   "cell_type": "code",
   "execution_count": 9,
   "metadata": {},
   "outputs": [],
   "source": [
    "def arithmetic_mean_xxx(x, *l):\n",
    "    \"\"\" The function calculates the arithmetic mean of a non-empty\n",
    "        arbitrary number of numbers \"\"\"\n",
    "    sum = x\n",
    "    print (l)\n",
    "    for i in l:\n",
    "        sum += i\n",
    " \n",
    "    return sum / (1.0 + len(l))"
   ]
  },
  {
   "cell_type": "code",
   "execution_count": 11,
   "metadata": {},
   "outputs": [
    {
     "name": "stdout",
     "output_type": "stream",
     "text": [
      "(2, 3, 4, 5, 6)\n"
     ]
    },
    {
     "data": {
      "text/plain": [
       "3.5"
      ]
     },
     "execution_count": 11,
     "metadata": {},
     "output_type": "execute_result"
    }
   ],
   "source": [
    "arithmetic_mean_xxx(1,2,3,4,5,6)"
   ]
  },
  {
   "cell_type": "code",
   "execution_count": 18,
   "metadata": {},
   "outputs": [],
   "source": [
    "def arithmetic_mean_xxx(x, y =2, *l):\n",
    "    \"\"\" The function calculates the arithmetic mean of a non-empty\n",
    "        arbitrary number of numbers \"\"\"\n",
    "    sum = x+y\n",
    "    print (\"y is\",y, \"l is\",l)\n",
    "    for i in l:\n",
    "        sum += i\n",
    " \n",
    "    return sum / (2.0 + len(l))"
   ]
  },
  {
   "cell_type": "code",
   "execution_count": 19,
   "metadata": {},
   "outputs": [
    {
     "name": "stdout",
     "output_type": "stream",
     "text": [
      "y is 2 l is ()\n"
     ]
    },
    {
     "data": {
      "text/plain": [
       "1.5"
      ]
     },
     "execution_count": 19,
     "metadata": {},
     "output_type": "execute_result"
    }
   ],
   "source": [
    "arithmetic_mean_xxx(1)"
   ]
  },
  {
   "cell_type": "code",
   "execution_count": 22,
   "metadata": {},
   "outputs": [
    {
     "name": "stdout",
     "output_type": "stream",
     "text": [
      "<function parent.<locals>.first_child at 0x7f518faaaea0>\n",
      "<function parent.<locals>.second_child at 0x7f518faaaae8>\n"
     ]
    }
   ],
   "source": [
    "def parent(num):\n",
    "    def first_child():\n",
    "        return \"Hi, I am Emma\"\n",
    " \n",
    "    def second_child():\n",
    "        return \"Call me Liam\"\n",
    " \n",
    "    if num == 1:\n",
    "        return first_child\n",
    "    else:\n",
    "        return second_child\n",
    "    \n",
    "first = parent(1)\n",
    " \n",
    "second = parent(2)\n",
    " \n",
    "print(first)\n",
    "print(second)"
   ]
  },
  {
   "cell_type": "code",
   "execution_count": 23,
   "metadata": {},
   "outputs": [
    {
     "name": "stdout",
     "output_type": "stream",
     "text": [
      "Value of total :  30\n",
      "Value of total :  40\n"
     ]
    }
   ],
   "source": [
    "sum = lambda arg1, arg2: arg1 + arg2;\n",
    " \n",
    "# Now you can call sum as a function\n",
    "print (\"Value of total : \", sum( 10, 20 ))\n",
    "print (\"Value of total : \", sum( 20, 20 ))"
   ]
  },
  {
   "cell_type": "code",
   "execution_count": 24,
   "metadata": {},
   "outputs": [
    {
     "data": {
      "text/plain": [
       "<function __main__.<lambda>>"
      ]
     },
     "execution_count": 24,
     "metadata": {},
     "output_type": "execute_result"
    }
   ],
   "source": [
    "sum"
   ]
  },
  {
   "cell_type": "code",
   "execution_count": 25,
   "metadata": {},
   "outputs": [],
   "source": [
    "def fib(n):\n",
    "    if n == 0:\n",
    "        return 0\n",
    "    elif n == 1:\n",
    "        return 1\n",
    "    else:\n",
    "        return fib(n-1) + fib(n-2)"
   ]
  },
  {
   "cell_type": "code",
   "execution_count": 26,
   "metadata": {},
   "outputs": [
    {
     "data": {
      "text/plain": [
       "5"
      ]
     },
     "execution_count": 26,
     "metadata": {},
     "output_type": "execute_result"
    }
   ],
   "source": [
    "fib(5)"
   ]
  },
  {
   "cell_type": "code",
   "execution_count": 29,
   "metadata": {},
   "outputs": [
    {
     "name": "stdout",
     "output_type": "stream",
     "text": [
      "55\n"
     ]
    }
   ],
   "source": [
    "class Memoize:\n",
    " def __init__(self, fn):\n",
    "  self.fn = fn\n",
    "  self.memo = {}\n",
    " def __call__(self, arg):\n",
    "  if arg not in self.memo:\n",
    "   self.memo[arg] = self.fn(arg)\n",
    "   return self.memo[arg]\n",
    " \n",
    "@Memoize\n",
    "def fib(n):\n",
    " a,b = 1,1\n",
    " for i in range(n-1):\n",
    "  a,b = b,a+b\n",
    " return a\n",
    "print (fib(10))"
   ]
  },
  {
   "cell_type": "code",
   "execution_count": null,
   "metadata": {},
   "outputs": [],
   "source": []
  }
 ],
 "metadata": {
  "kernelspec": {
   "display_name": "Python 3",
   "language": "python",
   "name": "python3"
  },
  "language_info": {
   "codemirror_mode": {
    "name": "ipython",
    "version": 3
   },
   "file_extension": ".py",
   "mimetype": "text/x-python",
   "name": "python",
   "nbconvert_exporter": "python",
   "pygments_lexer": "ipython3",
   "version": "3.7.3"
  }
 },
 "nbformat": 4,
 "nbformat_minor": 2
}
