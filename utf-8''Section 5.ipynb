{
  "cells": [
    {
      "metadata": {
        "trusted": true
      },
      "cell_type": "code",
      "source": "stuff = \"Please buy me these things\"\nwords = stuff.split(' ')\n#What will split do?",
      "execution_count": 1,
      "outputs": []
    },
    {
      "metadata": {
        "trusted": true
      },
      "cell_type": "code",
      "source": "words",
      "execution_count": 2,
      "outputs": [
        {
          "output_type": "execute_result",
          "execution_count": 2,
          "data": {
            "text/plain": "['Please', 'buy', 'me', 'these', 'things']"
          },
          "metadata": {}
        }
      ]
    },
    {
      "metadata": {
        "trusted": true
      },
      "cell_type": "code",
      "source": "a_list = ['foo', 2, [4, 5]]\na_list[1] = (3, 4)\na_list\n#Mutation or changing elements or assigning ",
      "execution_count": 5,
      "outputs": [
        {
          "output_type": "execute_result",
          "execution_count": 5,
          "data": {
            "text/plain": "['foo', (3, 4), [4, 5]]"
          },
          "metadata": {}
        }
      ]
    },
    {
      "metadata": {
        "trusted": true
      },
      "cell_type": "code",
      "source": "a = [1, 2, 3]\nb=a\n \na.append(4)\nb\n",
      "execution_count": 7,
      "outputs": [
        {
          "output_type": "execute_result",
          "execution_count": 7,
          "data": {
            "text/plain": "[1, 2, 3, 4]"
          },
          "metadata": {}
        }
      ]
    },
    {
      "metadata": {
        "trusted": true
      },
      "cell_type": "code",
      "source": "a = [1, 2, 3]\nb = a\nc = list(a)\n \na is b\n",
      "execution_count": 8,
      "outputs": [
        {
          "output_type": "execute_result",
          "execution_count": 8,
          "data": {
            "text/plain": "True"
          },
          "metadata": {}
        }
      ]
    },
    {
      "metadata": {
        "trusted": true
      },
      "cell_type": "code",
      "source": " \na is c\n \n\n",
      "execution_count": 9,
      "outputs": [
        {
          "output_type": "execute_result",
          "execution_count": 9,
          "data": {
            "text/plain": "False"
          },
          "metadata": {}
        }
      ]
    },
    {
      "metadata": {
        "trusted": true
      },
      "cell_type": "code",
      "source": "c",
      "execution_count": 10,
      "outputs": [
        {
          "output_type": "execute_result",
          "execution_count": 10,
          "data": {
            "text/plain": "[1, 2, 3]"
          },
          "metadata": {}
        }
      ]
    },
    {
      "metadata": {
        "trusted": true
      },
      "cell_type": "code",
      "source": "a==c",
      "execution_count": 11,
      "outputs": [
        {
          "output_type": "execute_result",
          "execution_count": 11,
          "data": {
            "text/plain": "True"
          },
          "metadata": {}
        }
      ]
    },
    {
      "metadata": {
        "trusted": true
      },
      "cell_type": "code",
      "source": "list(range(10))",
      "execution_count": 12,
      "outputs": [
        {
          "output_type": "execute_result",
          "execution_count": 12,
          "data": {
            "text/plain": "[0, 1, 2, 3, 4, 5, 6, 7, 8, 9]"
          },
          "metadata": {}
        }
      ]
    },
    {
      "metadata": {
        "trusted": true
      },
      "cell_type": "code",
      "source": "lst1 =[4, None, 'foo'] + [7, 8, [2, 3]]\nlst1",
      "execution_count": 13,
      "outputs": [
        {
          "output_type": "execute_result",
          "execution_count": 13,
          "data": {
            "text/plain": "[4, None, 'foo', 7, 8, [2, 3]]"
          },
          "metadata": {}
        }
      ]
    },
    {
      "metadata": {
        "trusted": true
      },
      "cell_type": "code",
      "source": "lst1[5][1]\n",
      "execution_count": 14,
      "outputs": [
        {
          "output_type": "execute_result",
          "execution_count": 14,
          "data": {
            "text/plain": "3"
          },
          "metadata": {}
        }
      ]
    },
    {
      "metadata": {
        "trusted": true
      },
      "cell_type": "code",
      "source": "x = [4, None, 'foo']\nx.extend([7, 8, (2, 3)])\nx",
      "execution_count": 15,
      "outputs": [
        {
          "output_type": "execute_result",
          "execution_count": 15,
          "data": {
            "text/plain": "[4, None, 'foo', 7, 8, (2, 3)]"
          },
          "metadata": {}
        }
      ]
    },
    {
      "metadata": {
        "trusted": true
      },
      "cell_type": "code",
      "source": "# create a mapping of state to abbreviation\nstates = {\n    'Oregon': 'OR',\n    'Florida': 'FL',\n    'California': 'CA',\n    'New York': 'NY',\n    'Michigan': 'MI'\n}\n \n# create a basic set of states and some cities in them\ncities = {'CA': 'San Francisco',\n          'MI': 'Detroit',\n          'FL': 'Jacksonville'}\n \n# add some more cities\ncities['NY'] = 'New York'\ncities['OR'] = 'Portland'\n \n# print out some cities\nprint('-' * 10)\nprint(\"NY State has: \", cities['NY'])\nprint(\"OR State has: \", cities['OR'])\n \n# print some states\nprint('-' * 10)\nprint(\"Michigan's abbreviation is: \", states[\"Michigan\"])\nprint(\"Florida's abbreviation is: \", states['Florida'])\n \n# do it by using the state then cities dict\nprint('-' * 10)\nprint(\"Michigan has: \", cities[states['Michigan']])\nprint(\"Florida has: \", cities[states['Florida']])\n \n# print every state abbreviation\nprint('-' * 10)\nfor state, abbrev in states.items():\n    print(f\"{state} is abbreviated {abbrev}\")\n \n# print every city in state\nprint('-' * 10)\nfor abbrev, city in cities.items():\n    print(f\"{abbrev} has the city {city}\")\n \n# now do both at the same time\nprint('-' * 10)\nfor state, abbrev in states.items():\n    print(f\"{state} state is abbreviated {abbrev}\")\n    print(f\"and has city {cities[abbrev]}\")\n \nprint('-' * 10)\n# safely get an abbreviation by state that might not be there\nstate = states.get('Texas')\n \nif not state:\n    print(\"Sorry, no Texas.\")\n \n# get a city with a default values\ncity = cities.get('FL', 'Does not Exist')\nprint(f\"The city for the state 'TX' is: {city}\")",
      "execution_count": 16,
      "outputs": [
        {
          "output_type": "stream",
          "text": "----------\nNY State has:  New York\nOR State has:  Portland\n----------\nMichigan's abbreviation is:  MI\nFlorida's abbreviation is:  FL\n----------\nMichigan has:  Detroit\nFlorida has:  Jacksonville\n----------\nOregon is abbreviated OR\nFlorida is abbreviated FL\nCalifornia is abbreviated CA\nNew York is abbreviated NY\nMichigan is abbreviated MI\n----------\nCA has the city San Francisco\nMI has the city Detroit\nFL has the city Jacksonville\nNY has the city New York\nOR has the city Portland\n----------\nOregon state is abbreviated OR\nand has city Portland\nFlorida state is abbreviated FL\nand has city Jacksonville\nCalifornia state is abbreviated CA\nand has city San Francisco\nNew York state is abbreviated NY\nand has city New York\nMichigan state is abbreviated MI\nand has city Detroit\n----------\nSorry, no Texas.\nThe city for the state 'TX' is: Jacksonville\n",
          "name": "stdout"
        }
      ]
    },
    {
      "metadata": {
        "trusted": true
      },
      "cell_type": "code",
      "source": "states['California']",
      "execution_count": 18,
      "outputs": [
        {
          "output_type": "execute_result",
          "execution_count": 18,
          "data": {
            "text/plain": "'CA'"
          },
          "metadata": {}
        }
      ]
    },
    {
      "metadata": {
        "trusted": true
      },
      "cell_type": "code",
      "source": "cities",
      "execution_count": 19,
      "outputs": [
        {
          "output_type": "execute_result",
          "execution_count": 19,
          "data": {
            "text/plain": "{'CA': 'San Francisco',\n 'FL': 'Jacksonville',\n 'MI': 'Detroit',\n 'NY': 'New York',\n 'OR': 'Portland'}"
          },
          "metadata": {}
        }
      ]
    },
    {
      "metadata": {
        "trusted": true
      },
      "cell_type": "code",
      "source": "cities['WDC'] = 'Washington DC'\n",
      "execution_count": 21,
      "outputs": []
    },
    {
      "metadata": {
        "trusted": true
      },
      "cell_type": "code",
      "source": "cities",
      "execution_count": 22,
      "outputs": [
        {
          "output_type": "execute_result",
          "execution_count": 22,
          "data": {
            "text/plain": "{'CA': 'San Francisco',\n 'FL': 'Jacksonville',\n 'MI': 'Detroit',\n 'NY': 'New York',\n 'OR': 'Portland',\n 'WDC': 'Washington DC'}"
          },
          "metadata": {}
        }
      ]
    },
    {
      "metadata": {
        "trusted": true
      },
      "cell_type": "code",
      "source": "states['Michigan']",
      "execution_count": 23,
      "outputs": [
        {
          "output_type": "execute_result",
          "execution_count": 23,
          "data": {
            "text/plain": "'MI'"
          },
          "metadata": {}
        }
      ]
    },
    {
      "metadata": {
        "trusted": true
      },
      "cell_type": "code",
      "source": "cities",
      "execution_count": 24,
      "outputs": [
        {
          "output_type": "execute_result",
          "execution_count": 24,
          "data": {
            "text/plain": "{'CA': 'San Francisco',\n 'FL': 'Jacksonville',\n 'MI': 'Detroit',\n 'NY': 'New York',\n 'OR': 'Portland',\n 'WDC': 'Washington DC'}"
          },
          "metadata": {}
        }
      ]
    },
    {
      "metadata": {
        "trusted": true
      },
      "cell_type": "code",
      "source": "for key, value in states.items():\n    print(f\"key: {key}, value: {value}\")\n ",
      "execution_count": 29,
      "outputs": [
        {
          "output_type": "stream",
          "text": "key: Oregon, value: OR\nkey: Florida, value: FL\nkey: California, value: CA\nkey: New York, value: NY\nkey: Michigan, value: MI\n",
          "name": "stdout"
        }
      ]
    },
    {
      "metadata": {
        "trusted": true
      },
      "cell_type": "code",
      "source": "for key, value in states.items():\n    print(f\"value: {value}\")\n ",
      "execution_count": 31,
      "outputs": [
        {
          "output_type": "stream",
          "text": "value: OR\nvalue: FL\nvalue: CA\nvalue: NY\nvalue: MI\n",
          "name": "stdout"
        }
      ]
    },
    {
      "metadata": {
        "trusted": true
      },
      "cell_type": "code",
      "source": "state = states.get('Texas')\n",
      "execution_count": 32,
      "outputs": []
    },
    {
      "metadata": {
        "trusted": true
      },
      "cell_type": "code",
      "source": "type(state)",
      "execution_count": 35,
      "outputs": [
        {
          "output_type": "execute_result",
          "execution_count": 35,
          "data": {
            "text/plain": "NoneType"
          },
          "metadata": {}
        }
      ]
    },
    {
      "metadata": {
        "trusted": true
      },
      "cell_type": "code",
      "source": "states['Texas']",
      "execution_count": 34,
      "outputs": [
        {
          "output_type": "error",
          "ename": "KeyError",
          "evalue": "'Texas'",
          "traceback": [
            "\u001b[0;31m---------------------------------------------------------------------------\u001b[0m",
            "\u001b[0;31mKeyError\u001b[0m                                  Traceback (most recent call last)",
            "\u001b[0;32m<ipython-input-34-8fd908dcc7d9>\u001b[0m in \u001b[0;36m<module>\u001b[0;34m()\u001b[0m\n\u001b[0;32m----> 1\u001b[0;31m \u001b[0mstates\u001b[0m\u001b[0;34m[\u001b[0m\u001b[0;34m'Texas'\u001b[0m\u001b[0;34m]\u001b[0m\u001b[0;34m\u001b[0m\u001b[0m\n\u001b[0m",
            "\u001b[0;31mKeyError\u001b[0m: 'Texas'"
          ]
        }
      ]
    },
    {
      "metadata": {
        "trusted": true
      },
      "cell_type": "code",
      "source": "state == None\n",
      "execution_count": 36,
      "outputs": [
        {
          "output_type": "execute_result",
          "execution_count": 36,
          "data": {
            "text/plain": "True"
          },
          "metadata": {}
        }
      ]
    },
    {
      "metadata": {
        "trusted": true
      },
      "cell_type": "code",
      "source": "state ==0",
      "execution_count": 37,
      "outputs": [
        {
          "output_type": "execute_result",
          "execution_count": 37,
          "data": {
            "text/plain": "False"
          },
          "metadata": {}
        }
      ]
    },
    {
      "metadata": {
        "trusted": true
      },
      "cell_type": "code",
      "source": "print(list(cities.keys())[list(cities.values()).index('New York')])\n",
      "execution_count": 38,
      "outputs": [
        {
          "output_type": "stream",
          "text": "NY\n",
          "name": "stdout"
        }
      ]
    },
    {
      "metadata": {
        "trusted": true
      },
      "cell_type": "code",
      "source": "[list(cities.values()).index('New York')]",
      "execution_count": 40,
      "outputs": [
        {
          "output_type": "execute_result",
          "execution_count": 40,
          "data": {
            "text/plain": "[3]"
          },
          "metadata": {}
        }
      ]
    },
    {
      "metadata": {
        "trusted": true
      },
      "cell_type": "code",
      "source": "",
      "execution_count": null,
      "outputs": []
    }
  ],
  "metadata": {
    "kernelspec": {
      "name": "python36",
      "display_name": "Python 3.6",
      "language": "python"
    },
    "language_info": {
      "mimetype": "text/x-python",
      "nbconvert_exporter": "python",
      "name": "python",
      "pygments_lexer": "ipython3",
      "version": "3.6.6",
      "file_extension": ".py",
      "codemirror_mode": {
        "version": 3,
        "name": "ipython"
      }
    }
  },
  "nbformat": 4,
  "nbformat_minor": 1
}