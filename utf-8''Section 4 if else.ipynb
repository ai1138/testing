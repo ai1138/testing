{
  "cells": [
    {
      "metadata": {
        "trusted": true
      },
      "cell_type": "code",
      "source": "python = 20\nanaconda = 50\nrattlesnake = 15\n \nif python < anaconda:\n    print(\"Too many anaconda! The world is doomed!\")\n    print(\"Again Too many anaconda! The world is doomed!\")\n\n \n\nif python > rattlesnake:\n    print(\"Not many rattlesnake! The world is saved!\")\n \nif rattlesnake < anaconda:\n    print(\"The world is anaconda on!\")",
      "execution_count": 10,
      "outputs": [
        {
          "output_type": "stream",
          "text": "Too many anaconda! The world is doomed!\nAgain Too many anaconda! The world is doomed!\nNot many rattlesnake! The world is saved!\nThe world is anaconda on!\n",
          "name": "stdout"
        }
      ]
    },
    {
      "metadata": {
        "trusted": true
      },
      "cell_type": "code",
      "source": "python = 30\nanaconda = 30\nrattlesnake = 15\n \nif anaconda > python:\n    print(\"We should take the anaconda.\")\nelif anaconda < python:\n    print(\"We should not take the python.\")\nelse:\n    print(\"We can't decide.\")",
      "execution_count": 12,
      "outputs": [
        {
          "output_type": "stream",
          "text": "We can't decide.\n",
          "name": "stdout"
        }
      ]
    },
    {
      "metadata": {
        "trusted": true
      },
      "cell_type": "code",
      "source": "x = -5\n'Non-negative' if x >= 0 elif x==0  'Negative'",
      "execution_count": 14,
      "outputs": [
        {
          "output_type": "execute_result",
          "execution_count": 14,
          "data": {
            "text/plain": "'Negative'"
          },
          "metadata": {}
        }
      ]
    },
    {
      "metadata": {
        "trusted": true
      },
      "cell_type": "code",
      "source": "i=51\na = 1 if i<50 else 2 if i>50  else 0\na",
      "execution_count": 28,
      "outputs": [
        {
          "output_type": "execute_result",
          "execution_count": 28,
          "data": {
            "text/plain": "2"
          },
          "metadata": {}
        }
      ]
    },
    {
      "metadata": {
        "trusted": true
      },
      "cell_type": "code",
      "source": "x = 6\ny = 7\nif x > 5:\n    x = x + 1\n \n    y = 8",
      "execution_count": 21,
      "outputs": []
    },
    {
      "metadata": {
        "trusted": true
      },
      "cell_type": "code",
      "source": "x",
      "execution_count": 22,
      "outputs": [
        {
          "output_type": "execute_result",
          "execution_count": 22,
          "data": {
            "text/plain": "7"
          },
          "metadata": {}
        }
      ]
    },
    {
      "metadata": {
        "trusted": true
      },
      "cell_type": "code",
      "source": "y",
      "execution_count": 23,
      "outputs": [
        {
          "output_type": "execute_result",
          "execution_count": 23,
          "data": {
            "text/plain": "8"
          },
          "metadata": {}
        }
      ]
    },
    {
      "metadata": {
        "trusted": true
      },
      "cell_type": "code",
      "source": "a = 5\nb = 7\nc = 8 \nd = 9\n \nif (a < b) | (c > d):\n    print('Made it')",
      "execution_count": 30,
      "outputs": [
        {
          "output_type": "stream",
          "text": "Made it\n",
          "name": "stdout"
        }
      ]
    },
    {
      "metadata": {
        "trusted": true
      },
      "cell_type": "code",
      "source": "a = 5\nb = 7\nc = 99 \nd = 9\n \nif (a < b) & (c > d):\n    print('Made it')",
      "execution_count": 32,
      "outputs": [
        {
          "output_type": "stream",
          "text": "Made it\n",
          "name": "stdout"
        }
      ]
    },
    {
      "metadata": {
        "trusted": true
      },
      "cell_type": "code",
      "source": "a = 5\nb = 7\nc = 8 \nd = 9\n \nif (a < b) or (c > d):\n    print('Made it')",
      "execution_count": 33,
      "outputs": [
        {
          "output_type": "stream",
          "text": "Made it\n",
          "name": "stdout"
        }
      ]
    },
    {
      "metadata": {
        "trusted": true
      },
      "cell_type": "code",
      "source": "a = 5\nb = 7\nc = 8 \nd = 9\n \nif (a < b) and (c > d):\n    print('Made it')",
      "execution_count": 34,
      "outputs": []
    },
    {
      "metadata": {
        "trusted": true
      },
      "cell_type": "code",
      "source": "",
      "execution_count": null,
      "outputs": []
    }
  ],
  "metadata": {
    "kernelspec": {
      "name": "python36",
      "display_name": "Python 3.6",
      "language": "python"
    },
    "language_info": {
      "mimetype": "text/x-python",
      "nbconvert_exporter": "python",
      "name": "python",
      "pygments_lexer": "ipython3",
      "version": "3.6.6",
      "file_extension": ".py",
      "codemirror_mode": {
        "version": 3,
        "name": "ipython"
      }
    }
  },
  "nbformat": 4,
  "nbformat_minor": 2
}