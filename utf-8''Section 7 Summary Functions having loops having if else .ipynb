{
 "cells": [
  {
   "cell_type": "code",
   "execution_count": 1,
   "metadata": {},
   "outputs": [
    {
     "name": "stdout",
     "output_type": "stream",
     "text": [
      "5\n",
      "6\n",
      "7\n",
      "90\n",
      "23\n",
      "67\n",
      "69\n"
     ]
    }
   ],
   "source": [
    "data = [5, 6, 7, 90, 23, 67, 69]\n",
    "i = 0\n",
    "\n",
    "while i<=6:\n",
    "   print(data[i])\n",
    "   i+=1"
   ]
  },
  {
   "cell_type": "code",
   "execution_count": 1,
   "metadata": {},
   "outputs": [
    {
     "name": "stdout",
     "output_type": "stream",
     "text": [
      "1 carrot bad\n",
      "2 tomatoe bad\n",
      "3 muli bad\n",
      "4 bindi bad\n",
      "5 brookli bad\n",
      "6 potetoe bad\n",
      "7 karela bad\n",
      "8 samosa good\n"
     ]
    }
   ],
   "source": [
    "m = ['carrot', 'tomatoe', 'muli','bindi', 'brookli', 'potetoe', 'karela', 'samosa' ]\n",
    "\n",
    "def checksamosa(input1):\n",
    "\n",
    "    number=1\n",
    "\n",
    "    for n in input1:\n",
    "\n",
    "        if n == 'samosa':\n",
    "         print (number,n, 'good')\n",
    "        else:\n",
    "         print (number, n,'bad')\n",
    "        number = number +1\n",
    "\n",
    "checksamosa(m)       \n",
    "        "
   ]
  },
  {
   "cell_type": "code",
   "execution_count": 2,
   "metadata": {},
   "outputs": [
    {
     "name": "stdout",
     "output_type": "stream",
     "text": [
      "1 samosa good\n",
      "2 chai bad\n",
      "3 pooha bad\n"
     ]
    }
   ],
   "source": [
    "checksamosa(['samosa', 'chai', 'pooha'])"
   ]
  },
  {
   "cell_type": "code",
   "execution_count": 3,
   "metadata": {},
   "outputs": [
    {
     "name": "stdout",
     "output_type": "stream",
     "text": [
      "hello\n",
      "15\n",
      "hello\n",
      "15\n"
     ]
    }
   ],
   "source": [
    "\n",
    "def simplefunction():\n",
    "    print (\"hello\")\n",
    "    a,b = 5,10\n",
    "    sum = a+b\n",
    "    print (sum)\n",
    "\n",
    "simplefunction()\n",
    "simplefunction()"
   ]
  },
  {
   "cell_type": "code",
   "execution_count": 4,
   "metadata": {},
   "outputs": [
    {
     "name": "stdout",
     "output_type": "stream",
     "text": [
      "15\n",
      "25\n"
     ]
    }
   ],
   "source": [
    "def sum(num1,num2):\n",
    "    sum =num1+num2\n",
    "    print(sum)\n",
    "\n",
    "sum(5,10)\n",
    "sum(10,15)"
   ]
  },
  {
   "cell_type": "code",
   "execution_count": null,
   "metadata": {},
   "outputs": [],
   "source": []
  }
 ],
 "metadata": {
  "kernelspec": {
   "display_name": "Python [conda env:Anaconda3]",
   "language": "python",
   "name": "conda-env-Anaconda3-py"
  },
  "language_info": {
   "codemirror_mode": {
    "name": "ipython",
    "version": 3
   },
   "file_extension": ".py",
   "mimetype": "text/x-python",
   "name": "python",
   "nbconvert_exporter": "python",
   "pygments_lexer": "ipython3",
   "version": "3.6.4"
  }
 },
 "nbformat": 4,
 "nbformat_minor": 2
}
