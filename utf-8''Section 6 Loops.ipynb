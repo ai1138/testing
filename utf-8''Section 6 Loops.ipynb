{
  "cells": [
    {
      "metadata": {
        "trusted": true
      },
      "cell_type": "code",
      "source": "the_count = [0,1, 2, 3, 4, 5,6]\nfruits = ['apples', 'oranges', 'pears', 'apricots']\nchange = [1, 'rupee', 2, 'paisa', 3, 'mudra']\n \n# traverse through the list we created\nfor xxx in the_count:\n    print(f\"This is count {xxx}\")",
      "execution_count": 3,
      "outputs": [
        {
          "output_type": "stream",
          "text": "This is count 0\nThis is count 1\nThis is count 2\nThis is count 3\nThis is count 4\nThis is count 5\nThis is count 6\n",
          "name": "stdout"
        }
      ]
    },
    {
      "metadata": {
        "trusted": true
      },
      "cell_type": "code",
      "source": "elements = []\n \n# then use the range function to do 0 to 5 counts\nfor i in range(0, 6):\n    print(f\"Adding {i} to the list.\")\n    # append is a function that lists understand\n    elements.append(i)\nelements",
      "execution_count": 7,
      "outputs": [
        {
          "output_type": "stream",
          "text": "Adding 0 to the list.\nAdding 1 to the list.\nAdding 2 to the list.\nAdding 3 to the list.\nAdding 4 to the list.\nAdding 5 to the list.\n",
          "name": "stdout"
        },
        {
          "output_type": "execute_result",
          "execution_count": 7,
          "data": {
            "text/plain": "[0, 1, 2, 3, 4, 5]"
          },
          "metadata": {}
        }
      ]
    },
    {
      "metadata": {
        "trusted": true
      },
      "cell_type": "code",
      "source": "elements = []\n \n# then use the range function to do 0 to 5 counts\nfor xxx_each in the_count:\n    print(f\"Adding {xxx_each} to the list.\")\n    # append is a function that lists understand\n    elements.append(xxx_each)",
      "execution_count": 6,
      "outputs": [
        {
          "output_type": "stream",
          "text": "Adding 0 to the list.\nAdding 1 to the list.\nAdding 2 to the list.\nAdding 3 to the list.\nAdding 4 to the list.\nAdding 5 to the list.\nAdding 6 to the list.\n",
          "name": "stdout"
        }
      ]
    },
    {
      "metadata": {
        "trusted": true
      },
      "cell_type": "code",
      "source": "elements",
      "execution_count": 5,
      "outputs": [
        {
          "output_type": "execute_result",
          "execution_count": 5,
          "data": {
            "text/plain": "[0, 1, 2, 3, 4, 5, 6]"
          },
          "metadata": {}
        }
      ]
    },
    {
      "metadata": {
        "trusted": true
      },
      "cell_type": "code",
      "source": "# this first kind of for-loop goes through a list\nfor eachvalue in the_count:\n    print(f\"This is count {eachvalue*2}\")\n",
      "execution_count": 8,
      "outputs": [
        {
          "output_type": "stream",
          "text": "This is count 0\nThis is count 2\nThis is count 4\nThis is count 6\nThis is count 8\nThis is count 10\nThis is count 12\n",
          "name": "stdout"
        }
      ]
    },
    {
      "metadata": {
        "trusted": true
      },
      "cell_type": "code",
      "source": "for i in range(0, len(the_count)):\n    print (the_count[i],i)\n",
      "execution_count": 9,
      "outputs": [
        {
          "output_type": "stream",
          "text": "0 0\n1 1\n2 2\n3 3\n4 4\n5 5\n6 6\n",
          "name": "stdout"
        }
      ]
    },
    {
      "metadata": {
        "trusted": true
      },
      "cell_type": "code",
      "source": "len(the_count)",
      "execution_count": 10,
      "outputs": [
        {
          "output_type": "execute_result",
          "execution_count": 10,
          "data": {
            "text/plain": "7"
          },
          "metadata": {}
        }
      ]
    },
    {
      "metadata": {
        "trusted": true
      },
      "cell_type": "code",
      "source": "i = 0\nnumbers = []\n \nwhile i < 7:\n    print(f\"At the top i is {i}\")\n    numbers.append(i)\n \n    i = i + 3\n    print(\"Numbers now: \", numbers)\n    print(f\"At the bottom i is {i}\")\n \nprint(\"The numbers: \")",
      "execution_count": 11,
      "outputs": [
        {
          "output_type": "stream",
          "text": "At the top i is 0\nNumbers now:  [0]\nAt the bottom i is 3\nAt the top i is 3\nNumbers now:  [0, 3]\nAt the bottom i is 6\nAt the top i is 6\nNumbers now:  [0, 3, 6]\nAt the bottom i is 9\nThe numbers: \n",
          "name": "stdout"
        }
      ]
    },
    {
      "metadata": {
        "trusted": true
      },
      "cell_type": "code",
      "source": "i = 0\nnumbers =[]\n\nif i < 7:\n    i = i + 3\n    numbers.append(i)\n\nif i < 7:\n    i = i + 3\n    numbers.append(i)\n    \nif i < 7:\n    i = i + 3\n    numbers.append(i)\n    \nif i < 7:\n    i = i + 3\n    numbers.append(i)\n\n\nnumbers",
      "execution_count": 16,
      "outputs": [
        {
          "output_type": "execute_result",
          "execution_count": 16,
          "data": {
            "text/plain": "[3, 6, 9]"
          },
          "metadata": {}
        }
      ]
    },
    {
      "metadata": {
        "trusted": true
      },
      "cell_type": "code",
      "source": "i",
      "execution_count": 13,
      "outputs": [
        {
          "output_type": "execute_result",
          "execution_count": 13,
          "data": {
            "text/plain": "9"
          },
          "metadata": {}
        }
      ]
    },
    {
      "metadata": {
        "trusted": true
      },
      "cell_type": "code",
      "source": "i=0\nli = [2,3,5,67,85,5,4]\nmax = len(li)\nwhile i < max:\n    print (li[i])\n    i=i+1",
      "execution_count": 17,
      "outputs": [
        {
          "output_type": "stream",
          "text": "2\n3\n5\n67\n85\n5\n4\n",
          "name": "stdout"
        }
      ]
    },
    {
      "metadata": {
        "trusted": true
      },
      "cell_type": "code",
      "source": "max",
      "execution_count": 18,
      "outputs": [
        {
          "output_type": "execute_result",
          "execution_count": 18,
          "data": {
            "text/plain": "7"
          },
          "metadata": {}
        }
      ]
    },
    {
      "metadata": {
        "trusted": true
      },
      "cell_type": "code",
      "source": "i=0\nli = [2,3,5,67,85,5,4]\n#max = li.max()\nwhile i < max:\n    print (li[i])\n    i=i+1",
      "execution_count": 20,
      "outputs": [
        {
          "output_type": "error",
          "ename": "AttributeError",
          "evalue": "'list' object has no attribute 'max'",
          "traceback": [
            "\u001b[0;31m---------------------------------------------------------------------------\u001b[0m",
            "\u001b[0;31mAttributeError\u001b[0m                            Traceback (most recent call last)",
            "\u001b[0;32m<ipython-input-20-fe24c04ba802>\u001b[0m in \u001b[0;36m<module>\u001b[0;34m()\u001b[0m\n\u001b[1;32m      1\u001b[0m \u001b[0mi\u001b[0m\u001b[0;34m=\u001b[0m\u001b[0;36m0\u001b[0m\u001b[0;34m\u001b[0m\u001b[0m\n\u001b[1;32m      2\u001b[0m \u001b[0mli\u001b[0m \u001b[0;34m=\u001b[0m \u001b[0;34m[\u001b[0m\u001b[0;36m2\u001b[0m\u001b[0;34m,\u001b[0m\u001b[0;36m3\u001b[0m\u001b[0;34m,\u001b[0m\u001b[0;36m5\u001b[0m\u001b[0;34m,\u001b[0m\u001b[0;36m67\u001b[0m\u001b[0;34m,\u001b[0m\u001b[0;36m85\u001b[0m\u001b[0;34m,\u001b[0m\u001b[0;36m5\u001b[0m\u001b[0;34m,\u001b[0m\u001b[0;36m4\u001b[0m\u001b[0;34m]\u001b[0m\u001b[0;34m\u001b[0m\u001b[0m\n\u001b[0;32m----> 3\u001b[0;31m \u001b[0mmax\u001b[0m \u001b[0;34m=\u001b[0m \u001b[0mli\u001b[0m\u001b[0;34m.\u001b[0m\u001b[0mmax\u001b[0m\u001b[0;34m(\u001b[0m\u001b[0;34m)\u001b[0m\u001b[0;34m\u001b[0m\u001b[0m\n\u001b[0m\u001b[1;32m      4\u001b[0m \u001b[0;32mwhile\u001b[0m \u001b[0mi\u001b[0m \u001b[0;34m<\u001b[0m \u001b[0mmax\u001b[0m\u001b[0;34m:\u001b[0m\u001b[0;34m\u001b[0m\u001b[0m\n\u001b[1;32m      5\u001b[0m     \u001b[0mprint\u001b[0m \u001b[0;34m(\u001b[0m\u001b[0mli\u001b[0m\u001b[0;34m[\u001b[0m\u001b[0mi\u001b[0m\u001b[0;34m]\u001b[0m\u001b[0;34m)\u001b[0m\u001b[0;34m\u001b[0m\u001b[0m\n",
            "\u001b[0;31mAttributeError\u001b[0m: 'list' object has no attribute 'max'"
          ]
        }
      ]
    },
    {
      "metadata": {
        "trusted": true
      },
      "cell_type": "code",
      "source": "",
      "execution_count": null,
      "outputs": []
    }
  ],
  "metadata": {
    "kernelspec": {
      "name": "python36",
      "display_name": "Python 3.6",
      "language": "python"
    },
    "language_info": {
      "mimetype": "text/x-python",
      "nbconvert_exporter": "python",
      "name": "python",
      "pygments_lexer": "ipython3",
      "version": "3.6.6",
      "file_extension": ".py",
      "codemirror_mode": {
        "version": 3,
        "name": "ipython"
      }
    }
  },
  "nbformat": 4,
  "nbformat_minor": 1
}